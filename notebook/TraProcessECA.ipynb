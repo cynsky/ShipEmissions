{
 "cells": [
  {
   "cell_type": "code",
   "execution_count": null,
   "metadata": {
    "collapsed": true
   },
   "outputs": [],
   "source": [
    "#extract data. polygon as inputs. join trajectories with ships by mmsi"
   ]
  },
  {
   "cell_type": "code",
   "execution_count": null,
   "metadata": {
    "collapsed": true
   },
   "outputs": [],
   "source": [
    "#remove outlier. speed > 1.2 design speed, far away from others, systematicall wrong.\n",
    "#for points on land, we need more land information"
   ]
  },
  {
   "cell_type": "code",
   "execution_count": null,
   "metadata": {
    "collapsed": true
   },
   "outputs": [],
   "source": [
    "#remove tightly closed and duplicated points, set grid size to 10000 seems much better\n",
    "#here need a picture to illustrate the effect of size\n",
    "#and also need to deside the number of points retain for each grids, mean, median, first , last\n",
    "#and also other statistical numbers such as total number of points, total time ,avgspeed, etc.\n",
    "#first need to carefully investigate each trip trajectory,multiple trip trajectory of an individual ship\n",
    "#multiple ships trajectory together\n",
    "#it would be good to use GIS software to take a look at the trajectory"
   ]
  },
  {
   "cell_type": "code",
   "execution_count": null,
   "metadata": {
    "collapsed": true
   },
   "outputs": [],
   "source": [
    "#stay points detection,only keep the first and last point\n",
    "#stay points detection only apply to trips where speed less than 5 knot"
   ]
  },
  {
   "cell_type": "code",
   "execution_count": 3,
   "metadata": {
    "collapsed": false
   },
   "outputs": [
    {
     "data": {
      "text/html": [
       "0.0269978401727862"
      ],
      "text/latex": [
       "0.0269978401727862"
      ],
      "text/markdown": [
       "0.0269978401727862"
      ],
      "text/plain": [
       "[1] 0.02699784"
      ]
     },
     "metadata": {},
     "output_type": "display_data"
    }
   ],
   "source": [
    "(300/1852)*(600/3600)"
   ]
  },
  {
   "cell_type": "code",
   "execution_count": null,
   "metadata": {
    "collapsed": true
   },
   "outputs": [],
   "source": []
  }
 ],
 "metadata": {
  "kernelspec": {
   "display_name": "R",
   "language": "R",
   "name": "ir"
  },
  "language_info": {
   "codemirror_mode": "r",
   "file_extension": ".r",
   "mimetype": "text/x-r-source",
   "name": "R",
   "pygments_lexer": "r",
   "version": "3.3.2"
  }
 },
 "nbformat": 4,
 "nbformat_minor": 1
}
