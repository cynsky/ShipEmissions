{
 "cells": [
  {
   "cell_type": "code",
   "execution_count": null,
   "metadata": {
    "collapsed": false
   },
   "outputs": [],
   "source": [
    "#test the geo distance matrix, added in the function files\n",
    "#weighted cluster method\n",
    "library('data.table')\n",
    "library('ggplot2')\n",
    "library('ggmap')\n",
    "library('dbscan')\n",
    "library('dplyr')\n",
    "library('xts')\n",
    "#smu\n",
    "#funPath='D:/share/Git/Rprojects/ECA/function.R'\n",
    "\n",
    "funPath='D:/Git/Rprojects/ECA/function.R'\n",
    "source(funPath)"
   ]
  },
  {
   "cell_type": "code",
   "execution_count": null,
   "metadata": {
    "collapsed": true
   },
   "outputs": [],
   "source": [
    "#convert the csv document to esri shp documents\n",
    "#must have a lon and lat column as longitude and latitude\n",
    "#infile=\"D:/Git/data/terminals.csv\"\n",
    "data2shp<-function(MyData,filepath){ \n",
    "    library(rgdal)\n",
    "    library('sp')\n",
    "    coordinates(MyData)<-~lon+lat # whatever the equivalent is in your \n",
    "    writeOGR(MyData, filepath, \"layer name\", driver = \"ESRI Shapefile\")  \n",
    "}"
   ]
  },
  {
   "cell_type": "markdown",
   "metadata": {},
   "source": [
    "# functions for a ship"
   ]
  },
  {
   "cell_type": "code",
   "execution_count": null,
   "metadata": {
    "collapsed": true
   },
   "outputs": [],
   "source": [
    "#get stay points based data with status=5 and sog=0, mainly berth area\n",
    "#also work for database with more then one mmsi\n",
    "getStayPoint<-function(dt,eps=3600*2,minp=5){\n",
    "    setkey(dt,mmsi,time)\n",
    "    temp3=dt[,.N,list(mmsi)]\n",
    "    nr=nrow(temp3)#how many ships\n",
    "    r0=data.table(mmsi=0,stayid=0,startpid=0,endpid=0,duration=0,lon=0,lat=0)[mmsi<0]\n",
    "    for (i in seq(1,nr)){\n",
    "        r=temp3[i]\n",
    "        cship=dt[mmsi==r$mmsi]\n",
    "        cship2 <- as.matrix(cship[,list(time)])#get time series\n",
    "        cl2 <- dbscan(cship2, eps = eps, minPts =minp)\n",
    "        cship3=data.table(cbind(cship,stayid=cl2$cluster));\n",
    "        \n",
    "        temp=cship3[,list(startpid=first(.SD)$pid,endpid=last(.SD)$pid,duration=(last(.SD)$time-first(.SD)$time),lon=mean(.SD$lon),lat=mean(.SD$lat)),list(mmsi,stayid)]\n",
    "        \n",
    "        r0=rbind(r0,temp)      \n",
    "    }\n",
    "    return(r0)\n",
    "}\n"
   ]
  },
  {
   "cell_type": "code",
   "execution_count": null,
   "metadata": {
    "collapsed": false
   },
   "outputs": [],
   "source": [
    "#combine stay points based on dbscan\n",
    "#the function will add a sid column\n",
    "#for stayid not in a cluster, just set sid=-stayid\n",
    "mergeStayPoint<-function(sp,eps=0.02,minp=2){\n",
    "    cship2 <- as.matrix(sp[,list(lon,lat)])#get time series\n",
    "    cl2 <- dbscan(cship2, eps = eps, minPts =minp)\n",
    "    cship3=data.table(cbind(sp,sid=cl2$cluster))\n",
    "    cship3=cship3[sid==0,sid:=(100000+stayid)]#pay attention on this line\n",
    "    return(cship3) \n",
    "}"
   ]
  },
  {
   "cell_type": "code",
   "execution_count": null,
   "metadata": {
    "collapsed": false
   },
   "outputs": [],
   "source": [
    "#add stayid and sid to the original ship AIS records\n",
    "setStayId<-function(s,sp){\n",
    "    s=s[,stayid:=0]\n",
    "    s=s[,sid:=0]\n",
    "    n=nrow(sp)\n",
    "    for(i in seq(1,n)){\n",
    "        l=sp[i]\n",
    "        s[pid<=l$endpid&pid>=l$startpid,stayid:=l$stayid]\n",
    "        s[pid<=l$endpid&pid>=l$startpid,sid:=l$sid]\n",
    "    }\n",
    "    return(s)\n",
    "    \n",
    "}\n"
   ]
  },
  {
   "cell_type": "code",
   "execution_count": null,
   "metadata": {
    "collapsed": false
   },
   "outputs": [],
   "source": [
    "#set tripid to the original one\n",
    "setTripId<-function(s,sp){\n",
    "    \n",
    "    n=nrow(sp)\n",
    "    s=s[,tripid:=0]\n",
    "    if(n>1){\n",
    "        sp1=sp[1:(n-1),list(mmsi,startpid1=startpid,endpid1=endpid)]\n",
    "        sp2=sp[2:n,list(startpid2=startpid,endpid2=endpid)]\n",
    "        spln=cbind(sp1,sp2)\n",
    "        for(i in seq(1,nrow(spln))){\n",
    "            l=spln[i]\n",
    "            s[pid>=l$endpid1&pid<=l$startpid2,tripid:=i]    \n",
    "        }\n",
    "    }\n",
    "    return(s) \n",
    "}\n"
   ]
  },
  {
   "cell_type": "code",
   "execution_count": null,
   "metadata": {
    "collapsed": false
   },
   "outputs": [],
   "source": [
    "#add trips distance,duration, stayid,sid\n",
    "#all of the functions are for a single ship\n",
    "addTripStats<-function(trips,s){\n",
    "    trips=trips[,dist:=0]\n",
    "    trips=trips[,dur:=0]\n",
    "    n=nrow(trips)\n",
    "    for (i in (seq(1,n))){\n",
    "        id=trips[i]$tripid\n",
    "        trip=s[tripid==id]\n",
    "        m=nrow(trip)\n",
    "    \n",
    "        if(m>1){\n",
    "            trip1=trip[1:(m-1),list(mmsi,time1=time,lon1=lon,lat1=lat,sid1=sid)]\n",
    "            trip2=trip[2:m,list(tripid2=tripid,time2=time,lon2=lon,lat2=lat,sid2=sid)] \n",
    "            tripln=cbind(trip1,trip2)\n",
    "        \n",
    "            tripln=tripln[,dist:=distance(lon1,lat1,lon2,lat2)]\n",
    "            tripln=tripln[,dur:=(time2-time1)]\n",
    "            totalDist=sum(tripln$dist)\n",
    "            totalDur=sum(tripln$dur)\n",
    "            trips[tripid==id,dist:=totalDist]\n",
    "            trips[tripid==id,dur:=totalDur]\n",
    "            trips[tripid==id,stayid1:=first(trip)$stayid]\n",
    "            trips[tripid==id,stayid2:=last(trip)$stayid]\n",
    "            trips[tripid==id,sid1:=first(trip)$sid]\n",
    "            trips[tripid==id,sid2:=last(trip)$sid]\n",
    "        }\n",
    "    }\n",
    "      \n",
    "}"
   ]
  },
  {
   "cell_type": "code",
   "execution_count": null,
   "metadata": {
    "collapsed": true
   },
   "outputs": [],
   "source": [
    "#calculate trip statistics from original ais records \n",
    "#trips columns include:mmsi,tripid,N,dist,dur,stayid1,stayid2,sid1,sid2\n",
    "getShipTripStats<-function(s){\n",
    "    #individual ship\n",
    "    dt=s[sog==0&status==5];\n",
    "    sp=getStayPoint(dt,eps=3600*2,minp=5);sp=sp[stayid>0]\n",
    "    sp=mergeStayPoint(sp,eps=0.02,minp=2)\n",
    "    s=setStayId(s,sp)\n",
    "    s=setTripId(s,sp)\n",
    "    trips=s[tripid>0,.N,list(mmsi,tripid)];\n",
    "    addTripStats(trips,s)\n",
    "    return(trips)\n",
    "}"
   ]
  },
  {
   "cell_type": "markdown",
   "metadata": {},
   "source": [
    "# functions for an individual trip"
   ]
  },
  {
   "cell_type": "code",
   "execution_count": null,
   "metadata": {
    "collapsed": false
   },
   "outputs": [],
   "source": [
    "#get stay points based data with status!=5 and sog<5, mainly berth area\n",
    "#also work for database with more then one mmsi\n",
    "#sogLimit to set the speed limit of the select point\n",
    "getTripStayPoint<-function(trip,soglimit=5,eps=0.002,minp=5){\n",
    "    #add the first and last staypoint to the trip stay points\n",
    "    dt=trip[sog<soglimit&status!=5]#very important\n",
    "    if(nrow(dt)>0){\n",
    "        cship2 <- as.matrix(dt[,list(lon,lat)])#get time series\n",
    "        cl2 <- dbscan(cship2, eps = eps, minPts =minp)\n",
    "        cship3=cbind(dt[,list(mmsi,time,sog,lon,lat,status,pid,stayid,sid,tripid)],tripstayid=cl2$cluster);\n",
    "        tripStayPoint=cship3[tripstayid>0,list(startpid=first(.SD)$pid,endpid=last(.SD)$pid,duration=(last(.SD)$time-first(.SD)$time),lon=mean(.SD$lon),lat=mean(.SD$lat)),list(mmsi,tripid,tripstayid)] \n",
    "        tripStayPoint=tripStayPoint[,tripstayid:=(tripstayid+1)];\n",
    "        firstStay=first(trip);firstStay=data.table(firstStay[,list(mmsi,tripid,tripstayid=1,startpid=pid,endpid=pid,duration=0,lon,lat)]);\n",
    "        n=nrow(tripStayPoint)\n",
    "        lastStay=last(trip);lastStay=data.table(lastStay[,list(mmsi,tripid,tripstayid=(n+2),startpid=pid,endpid=pid,duration=0,lon,lat)]);\n",
    "        tripStayPoint=rbind(firstStay,tripStayPoint,lastStay);\n",
    "    } \n",
    "    if(nrow(dt)==0){\n",
    "        firstStay=first(trip);firstStay=data.table(firstStay[,list(mmsi,tripid,tripstayid=1,startpid=pid,endpid=pid,duration=0,lon,lat)]);\n",
    "        lastStay=last(trip);lastStay=data.table(lastStay[,list(mmsi,tripid,tripstayid=2,startpid=pid,endpid=pid,duration=0,lon,lat)]);\n",
    "        tripStayPoint=rbind(firstStay,lastStay);\n",
    "\n",
    "    }\n",
    "           \n",
    "    return(tripStayPoint)\n",
    "    \n",
    "\n",
    "}\n"
   ]
  },
  {
   "cell_type": "code",
   "execution_count": null,
   "metadata": {
    "collapsed": false,
    "scrolled": false
   },
   "outputs": [],
   "source": [
    "#set tripstayid within an individual trip\n",
    "# add a column called 'tripstayid '\n",
    "#mainly for the anchor places \n",
    "setTripStayId<-function(trip,tripStayPoint){\n",
    "    \n",
    "    trip=trip[,tripstayid:=0]\n",
    "    n=nrow(tripStayPoint);n\n",
    "    for(i in seq(1,n)){\n",
    "        l=tripStayPoint[i];\n",
    "        trip[pid<=l$endpid&pid>=l$startpid,tripstayid:=l$tripstayid]\n",
    "    }\n",
    "    return(trip)\n",
    "}\n"
   ]
  },
  {
   "cell_type": "code",
   "execution_count": null,
   "metadata": {
    "collapsed": false
   },
   "outputs": [],
   "source": [
    "#set subtripid for a trip\n",
    "#add an column called subtripid\n",
    "\n",
    "setTripSubTripId<-function(trip,tripStayPoint){\n",
    "    n=nrow(tripStayPoint)\n",
    "    trip=trip[,subtripid:=0]\n",
    "    sp1=tripStayPoint[1:(n-1),list(mmsi,tripid,startpid1=startpid,endpid1=endpid)]\n",
    "    sp2=tripStayPoint[2:n,list(startpid2=startpid,endpid2=endpid)]\n",
    "    spln=cbind(sp1,sp2)\n",
    "    for(i in seq(1,nrow(spln))){\n",
    "        l=spln[i]\n",
    "        trip[pid>=l$endpid1&pid<=l$startpid2,subtripid:=i]    \n",
    "    } \n",
    "    return(trip)\n",
    "}\n"
   ]
  },
  {
   "cell_type": "code",
   "execution_count": null,
   "metadata": {
    "collapsed": false
   },
   "outputs": [],
   "source": [
    "#add distance, duration,tripstayid1 and tripstayid2 to subtrips\n",
    "addSubTripStats<-function(subtrips,trip){\n",
    "    \n",
    "    subtrips=subtrips[,dist:=0]\n",
    "    subtrips=subtrips[,dur:=0]\n",
    "    n=nrow(subtrips)\n",
    "    for (i in (seq(1,n))){\n",
    "        id=subtrips[i]$subtripid\n",
    "        subtrip=trip[subtripid==id]\n",
    "        m=nrow(subtrip)\n",
    "  \n",
    "        if(m>1){\n",
    "            trip1=subtrip[1:(m-1),list(mmsi,time1=time,lon1=lon,lat1=lat)]\n",
    "            trip2=subtrip[2:m,list(tripid2=tripid,time2=time,lon2=lon,lat2=lat)] \n",
    "            tripln=cbind(trip1,trip2)\n",
    "        \n",
    "            tripln=tripln[,dist:=distance(lon1,lat1,lon2,lat2)]\n",
    "            tripln=tripln[,dur:=(time2-time1)]\n",
    "            totalDist=sum(tripln$dist)\n",
    "            totalDur=sum(tripln$dur)\n",
    "            subtrips[subtripid==id,dist:=totalDist]\n",
    "            subtrips[subtripid==id,dur:=totalDur]\n",
    "            subtrips[subtripid==id,tripstayid1:=first(subtrip)$tripstayid]\n",
    "            subtrips[subtripid==id,tripstayid2:=last(subtrip)$tripstayid]\n",
    "      \n",
    "        }\n",
    "    }\n",
    "    \n",
    "    return(subtrips) \n",
    "}\n"
   ]
  },
  {
   "cell_type": "markdown",
   "metadata": {},
   "source": [
    "# All process together"
   ]
  },
  {
   "cell_type": "code",
   "execution_count": null,
   "metadata": {
    "collapsed": true
   },
   "outputs": [],
   "source": [
    "#input: s[mmsi,time,sog,lon,lat,status] only for one ship\n",
    "shipTraSegment<-function(s){\n",
    "    \n",
    "    #individual ship\n",
    "    dt=s[sog==0&status==5];\n",
    "    sp=getStayPoint(dt,eps=3600*2,minp=5);sp=sp[stayid>0]\n",
    "    sp=mergeStayPoint(sp,eps=0.02,minp=2)\n",
    "    s=setStayId(s,sp)\n",
    "    s=setTripId(s,sp)\n",
    "    trips=s[tripid>0,.N,list(mmsi,tripid)];\n",
    "    addTripStats(trips,s)\n",
    "    \n",
    "    #individual trip------\n",
    "    \n",
    "    res=data.table(s[1],tripstayid=0,subtripid=0)[mmsi<0];\n",
    "    \n",
    "    n=nrow(trips)\n",
    "    for(i in seq(1,n)){\n",
    "        trip=s[tripid==trips[i]$tripid]\n",
    "        setkey(trip,mmsi,time)\n",
    "        #get trip stay point\n",
    "        tripStayPoint=getTripStayPoint(trip,soglimit=5,eps=0.002,minp=5);\n",
    "        #set trip stay id \n",
    "        trip=setTripStayId(trip,tripStayPoint)\n",
    "        #set trip subtripid\n",
    "        trip=setTripSubTripId(trip,tripStayPoint);\n",
    "        res=rbind(res,trip)\n",
    "        \n",
    "    }\n",
    "    #---------add subtripid and tripstayid to records with a tripid ==0, for example the stay points \n",
    "    temp=s[tripid==0]\n",
    "    temp=temp[,tripstayid:=0]\n",
    "    temp=temp[,subtripid:=0]\n",
    "    res=rbind(res,temp)\n",
    "    #--------------\n",
    "    setkey(res,mmsi,time)\n",
    "    return(res)\n",
    "}"
   ]
  },
  {
   "cell_type": "markdown",
   "metadata": {},
   "source": [
    "# main code"
   ]
  },
  {
   "cell_type": "code",
   "execution_count": null,
   "metadata": {
    "collapsed": false,
    "scrolled": true
   },
   "outputs": [],
   "source": [
    "#read data\n",
    "s=fread('D:/Git/data/container/209207000.txt');dim(s);\n",
    "setnames(s,c('mmsi','time','sog','lon','lat','status'));\n",
    "s=cbind(s,pid=seq(1,nrow(s)));head(s,3);"
   ]
  },
  {
   "cell_type": "code",
   "execution_count": null,
   "metadata": {
    "collapsed": false
   },
   "outputs": [],
   "source": [
    "#time sample if needed\n",
    "#tmp=s[,atime:=align.time(as.POSIXct(time,origin='1970-01-01'),60*5)];\n",
    "#head(tmp,5);nrow(tmp[,.N,list(mmsi,atime)])"
   ]
  },
  {
   "cell_type": "code",
   "execution_count": null,
   "metadata": {
    "collapsed": false
   },
   "outputs": [],
   "source": [
    "#dt=s[time<(min(s$time)+30*24*3600)&sog==0&status==5];head(dt);plot(dt$time)\n",
    "dt=s[sog==0&status==5];head(dt);plot(dt$time)"
   ]
  },
  {
   "cell_type": "code",
   "execution_count": null,
   "metadata": {
    "collapsed": false
   },
   "outputs": [],
   "source": [
    "#stayPoints\n",
    "sp=getStayPoint(dt,eps=3600*2,minp=5);sp=sp[stayid>0];dim(sp);head(sp,3);"
   ]
  },
  {
   "cell_type": "code",
   "execution_count": null,
   "metadata": {
    "collapsed": false
   },
   "outputs": [],
   "source": [
    "zoomSize=9\n",
    "    #temp=terminals;nrow(temp)\n",
    "    temp=sp\n",
    "    #t3[fcid%in%temp[,.N,fcid]$fcid]\n",
    "    #temp=terminals[lon<0&lon>-180];nrow(temp)\n",
    "    centerX=0.5*(max(temp$lon)+min(temp$lon))\n",
    "    centerY=0.5*(max(temp$lat)+min(temp$lat))\n",
    "    p<-ggmap(get_map(location=c(centerX,centerY),zoom=zoomSize,source='google',maptype = 'satellite'))\n",
    "    p=p+geom_point(data=temp,aes(x=lon,y=lat,col=as.factor(stayid)),size=0.5,alpha=0.75)\n",
    "    p=p+geom_text(data=temp,nudge_x = 0.0005,nudge_y = 0.0005,aes(x=lon,y=lat,label=stayid),color='black',size=2)\n",
    "    p=p+labs(x=\"Longtitude\",y=\"Latitude\")+theme(legend.position='none')\n",
    "    #p\n",
    "    #hulls=temp[chull(temp[,list(lon,lat)]),]\n",
    "    #p=p+geom_point(data = hulls, aes(x = lon, y = lat),size=1,col='yellow') \n",
    "    #p=p+geom_polygon(data = hulls, aes(x = lon, y = lat),fill='yellow',alpha = 0.4)\n",
    "    plot(p)\n",
    "    #ggsave(paste('D:/Git/data/portClusterPictures/','h','.png',sep=''))"
   ]
  },
  {
   "cell_type": "code",
   "execution_count": null,
   "metadata": {
    "collapsed": false
   },
   "outputs": [],
   "source": [
    "sp=mergeStayPoint(sp,eps=0.02,minp=2)\n",
    "dim(sp);sp[,.N,sid];head(sp)"
   ]
  },
  {
   "cell_type": "code",
   "execution_count": null,
   "metadata": {
    "collapsed": false
   },
   "outputs": [],
   "source": [
    "s=setStayId(s,sp)\n",
    "dim(s);head(s,3)"
   ]
  },
  {
   "cell_type": "code",
   "execution_count": null,
   "metadata": {
    "collapsed": false
   },
   "outputs": [],
   "source": [
    "s=setTripId(s,sp)\n",
    "head(s[tripid==2]);dim(s)"
   ]
  },
  {
   "cell_type": "code",
   "execution_count": null,
   "metadata": {
    "collapsed": false
   },
   "outputs": [],
   "source": [
    "trips=s[tripid>0,.N,list(mmsi,tripid)];\n",
    "addTripStats(trips,s)\n",
    "head(trips);dim(trips);dim(s)"
   ]
  },
  {
   "cell_type": "code",
   "execution_count": null,
   "metadata": {
    "collapsed": false
   },
   "outputs": [],
   "source": [
    "setorder(trips,dist);head(trips,10);trips[sid1!=sid2,.N,list(sid1,sid2)]"
   ]
  },
  {
   "cell_type": "code",
   "execution_count": null,
   "metadata": {
    "collapsed": false
   },
   "outputs": [],
   "source": [
    "plot((log(trips$dist)));"
   ]
  },
  {
   "cell_type": "markdown",
   "metadata": {},
   "source": [
    "# individual Trip test"
   ]
  },
  {
   "cell_type": "code",
   "execution_count": null,
   "metadata": {
    "collapsed": false
   },
   "outputs": [],
   "source": [
    "trip=s[tripid==33];dim(trip[sog==0&status!=5]);plot(trip$time,trip$sog)"
   ]
  },
  {
   "cell_type": "code",
   "execution_count": null,
   "metadata": {
    "collapsed": false
   },
   "outputs": [],
   "source": [
    " zoomSize=14\n",
    "    #temp=terminals;nrow(temp)\n",
    "    temp=trip[sog<1&status!=5]\n",
    "    #t3[fcid%in%temp[,.N,fcid]$fcid]\n",
    "    #temp=terminals[lon<0&lon>-180];nrow(temp)\n",
    "    centerX=0.5*(max(temp$lon)+min(temp$lon))\n",
    "    centerY=0.5*(max(temp$lat)+min(temp$lat))\n",
    "    p<-ggmap(get_map(location=c(centerX,centerY),zoom=zoomSize,source='google',maptype = 'satellite'))\n",
    "    p=p+geom_point(data=temp,aes(x=lon,y=lat,col=as.factor(stayid)),size=0.5,alpha=0.75)\n",
    "    p=p+geom_text(data=temp,nudge_x = 0.0005,nudge_y = 0.0005,aes(x=lon,y=lat,label=pid),color='black',size=2)\n",
    "    p=p+labs(x=\"Longtitude\",y=\"Latitude\")+theme(legend.position='none')\n",
    "    #p\n",
    "    #hulls=temp[chull(temp[,list(lon,lat)]),]\n",
    "    #p=p+geom_point(data = hulls, aes(x = lon, y = lat),size=1,col='yellow') \n",
    "    #p=p+geom_polygon(data = hulls, aes(x = lon, y = lat),fill='yellow',alpha = 0.4)\n",
    "    plot(p)\n",
    "    #ggsave(paste('D:/Git/data/portClusterPictures/','h','.png',sep=''))"
   ]
  },
  {
   "cell_type": "code",
   "execution_count": null,
   "metadata": {
    "collapsed": false
   },
   "outputs": [],
   "source": [
    " zoomSize=8\n",
    "    #temp=terminals;nrow(temp)\n",
    "    temp=trip\n",
    "    #t3[fcid%in%temp[,.N,fcid]$fcid]\n",
    "    #temp=terminals[lon<0&lon>-180];nrow(temp)\n",
    "    centerX=0.5*(max(temp$lon)+min(temp$lon))\n",
    "    centerY=0.5*(max(temp$lat)+min(temp$lat))\n",
    "    p<-ggmap(get_map(location=c(centerX,centerY),zoom=zoomSize,source='google',maptype = 'satellite'))\n",
    "    p=p+geom_point(data=temp,aes(x=lon,y=lat,col=as.factor(stayid)),size=0.5,alpha=0.75)\n",
    "    #p=p+geom_text(data=temp,nudge_x = 0.0005,nudge_y = 0.0005,aes(x=lon,y=lat,label=pid),color='black',size=2)\n",
    "    p=p+labs(x=\"Longtitude\",y=\"Latitude\")+theme(legend.position='none')\n",
    "    #p\n",
    "    #hulls=temp[chull(temp[,list(lon,lat)]),]\n",
    "    #p=p+geom_point(data = hulls, aes(x = lon, y = lat),size=1,col='yellow') \n",
    "    #p=p+geom_polygon(data = hulls, aes(x = lon, y = lat),fill='yellow',alpha = 0.4)\n",
    "    plot(p)\n",
    "    #ggsave(paste('D:/Git/data/portClusterPictures/','h','.png',sep=''))"
   ]
  },
  {
   "cell_type": "code",
   "execution_count": null,
   "metadata": {
    "collapsed": false
   },
   "outputs": [],
   "source": [
    "tripStayPoint=getTripStayPoint(trip,soglimit=5,eps=0.002,minp=5);head(tripStayPoint)\n",
    "n=nrow(tripStayPoint);n"
   ]
  },
  {
   "cell_type": "code",
   "execution_count": null,
   "metadata": {
    "collapsed": false
   },
   "outputs": [],
   "source": [
    "trip=setTripStayId(trip,tripStayPoint)\n",
    "trip[,.N,tripstayid];head(trip);dim(trip)"
   ]
  },
  {
   "cell_type": "code",
   "execution_count": null,
   "metadata": {
    "collapsed": false
   },
   "outputs": [],
   "source": [
    "trip=setTripSubTripId(trip,tripStayPoint);\n",
    "head(trip);trip[,.N,subtripid]"
   ]
  },
  {
   "cell_type": "code",
   "execution_count": null,
   "metadata": {
    "collapsed": false
   },
   "outputs": [],
   "source": [
    "subtrips=trip[subtripid>0,.N,list(mmsi,tripid,subtripid)];\n",
    "subtrips=addSubTripStats(subtrips,trip)\n",
    "head(subtrips);dim(subtrips)"
   ]
  },
  {
   "cell_type": "code",
   "execution_count": null,
   "metadata": {
    "collapsed": false
   },
   "outputs": [],
   "source": [
    "res=getShipTripStats(s);dim(res);head(res)"
   ]
  },
  {
   "cell_type": "code",
   "execution_count": null,
   "metadata": {
    "collapsed": false
   },
   "outputs": [],
   "source": [
    "head(s);head(trip)"
   ]
  },
  {
   "cell_type": "code",
   "execution_count": null,
   "metadata": {
    "collapsed": false
   },
   "outputs": [],
   "source": [
    "res=shipTraSegment(s);dim(res);head(res,1);#do not include tripid==0"
   ]
  },
  {
   "cell_type": "code",
   "execution_count": null,
   "metadata": {
    "collapsed": false
   },
   "outputs": [],
   "source": [
    "#the total results\n",
    "head(s,1)\n",
    "head(sp,1)#stay points\n",
    "head(trips,5)\n",
    "head(trip)\n",
    "head(tripStayPoint)#stay points\n",
    "head(subtrips)"
   ]
  },
  {
   "cell_type": "code",
   "execution_count": null,
   "metadata": {
    "collapsed": false
   },
   "outputs": [],
   "source": [
    "#read data\n",
    "s=fread('D:/Git/data/container/209506000.txt');dim(s);\n",
    "setnames(s,c('mmsi','time','sog','lon','lat','status'));\n",
    "s=cbind(s,pid=seq(1,nrow(s)));head(s,1);"
   ]
  },
  {
   "cell_type": "code",
   "execution_count": null,
   "metadata": {
    "collapsed": false
   },
   "outputs": [],
   "source": [
    "res=shipTraSegment(s);"
   ]
  },
  {
   "cell_type": "code",
   "execution_count": null,
   "metadata": {
    "collapsed": false
   },
   "outputs": [],
   "source": [
    "dim(res);head(res,5);"
   ]
  },
  {
   "cell_type": "code",
   "execution_count": null,
   "metadata": {
    "collapsed": true
   },
   "outputs": [],
   "source": []
  }
 ],
 "metadata": {
  "kernelspec": {
   "display_name": "R",
   "language": "R",
   "name": "ir"
  },
  "language_info": {
   "codemirror_mode": "r",
   "file_extension": ".r",
   "mimetype": "text/x-r-source",
   "name": "R",
   "pygments_lexer": "r",
   "version": "3.3.2"
  }
 },
 "nbformat": 4,
 "nbformat_minor": 1
}
