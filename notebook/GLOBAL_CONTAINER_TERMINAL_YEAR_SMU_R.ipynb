{
 "cells": [
  {
   "cell_type": "code",
   "execution_count": null,
   "metadata": {
    "collapsed": false
   },
   "outputs": [],
   "source": [
    "#test the geo distance matrix, added in the function files\n",
    "#weighted cluster method\n",
    "library('data.table')\n",
    "library('ggplot2')\n",
    "library('ggmap')\n",
    "library('dbscan')\n",
    "library('dplyr')\n",
    "library('xts')\n",
    "#smu\n",
    "funPath='D:/share/Git/Rprojects/ECA/function.R'\n",
    "\n",
    "#funPath='D:/Git/Rprojects/ECA/function.R'\n",
    "source(funPath)"
   ]
  },
  {
   "cell_type": "code",
   "execution_count": null,
   "metadata": {
    "collapsed": true
   },
   "outputs": [],
   "source": [
    "#get clusters\n",
    "findCluster<-function(dt,eps=0.002,minp=10){\n",
    "    \n",
    "    temp1 <- as.matrix(dt[,list(lon,lat)])\n",
    "    cl <- dbscan(temp1, eps = eps, minPts =minp)\n",
    "    temp2=data.table(cbind(dt,c=cl$cluster));  \n",
    "    return(temp2[c>0])\n",
    "    \n",
    "}"
   ]
  },
  {
   "cell_type": "code",
   "execution_count": null,
   "metadata": {
    "collapsed": false
   },
   "outputs": [],
   "source": [
    "#extract each trip from each cluster and mmsi\n",
    "#input:candidate clusters\n",
    "#output:cluster and duration for each ship in hours\n",
    "findTrip<-function(dt,eps=6000*2,minp=5){\n",
    "    \n",
    "    temp3=dt[,.N,list(c,mmsi)]\n",
    "    nr=nrow(temp3)#how many ships\n",
    "    #nr=14\n",
    "    tt=dt[mmsi<0];tt=tt[,c1:=0][c1<0]\n",
    "    t0=data.table(mmsi=0,c=0,c1=0,dur=0)[mmsi<0]\n",
    "    for (i in seq(1:nr)){\n",
    "    r=temp3[i]\n",
    "    cship=dt[mmsi==r$mmsi&c==r$c]\n",
    "    setkey(cship,mmsi,time)\n",
    "    cship2 <- as.matrix(cship[,list(time)])#get time series\n",
    "    cl2 <- dbscan(cship2, eps = eps, minPts =minp)\n",
    "    cship3=data.table(cbind(cship,c1=cl2$cluster));\n",
    "    tt=rbind(tt,cship3)\n",
    "    #if(nrow(cship3[c1>0])>0){\n",
    "    #    t1=cship3[c1>0,list(dur=(max(.SD$time)-min(.SD$time))/3600),by=list(c,mmsi,c1)]\n",
    "    #    t0=rbind(t0,t1) \n",
    "    #}\n",
    "    }\n",
    "    return(tt)\n",
    "\n",
    "}\n"
   ]
  },
  {
   "cell_type": "code",
   "execution_count": null,
   "metadata": {
    "collapsed": true
   },
   "outputs": [],
   "source": [
    "#input eps is for dbscan to combine different clusters which actually at the same terminal but seperate by two or more grids\n",
    "#eps set to be the doubel of the eps used to identify candidates terminals\n",
    "#minp set to 2 as we only sample one point from each candidate cluster for combination purpose\n",
    "getFinalCluster<-function(dt,eps=0.002*2,minp=2){\n",
    "    sampled=dt[,.SD[median(1:.N)],list(glon,glat,c)]# the points produced with medium are representative\n",
    "    cl=sampled[,.N,list(glon,glat,c)]\n",
    "    cl=cbind(cl,cid=seq(1:nrow(cl)))#set new cluster ids\n",
    "    \n",
    "    sampled1=data.table(left_join(sampled,cl[,list(glon,glat,c,cid)],by=c('glon','glat','c')))\n",
    "    cls=findCluster(sampled1[,list(c.org=c,glon,glat,lon,lat,cid)],eps,minp)#doubel the eps\n",
    "    s2=cls[c>0,.N,list(glon,glat,c,c.org,cid)];\n",
    "    s3=s2[,N,c];\n",
    "    dt1=data.table(left_join(dt,cl[,list(glon,glat,c,cid)],by=c('glon','glat','c')))\n",
    "    dt1=dt1[,fcid:=cid]#add final cluster identification\n",
    "    #replace the cluster id at the same terminal\n",
    "   \n",
    "    for (i in unique(s2$c)){\n",
    "        cids=s2[c==i]$cid\n",
    "        dt1=dt1[fcid%in%cids,fcid:=min(cids)]  \n",
    "    }\n",
    "    return(dt1)    \n",
    "}"
   ]
  },
  {
   "cell_type": "code",
   "execution_count": null,
   "metadata": {
    "collapsed": false
   },
   "outputs": [],
   "source": [
    "Sys.time()\n",
    "dt=data.table(mmsi=0,time=0,status=0,sog=0,lon=0,lat=0)[mmsi<0]\n",
    "path='D:/share/AIS/globalContainer2015/'\n",
    "for(i in seq(201501,201512)){\n",
    "    \n",
    "    filepath=paste(path,i,sep='')\n",
    "    temp=fread(filepath)[,list(mmsi,time,status,sog,lon,lat)];\n",
    "    dt=rbind(dt,temp)\n",
    "    }\n",
    "Sys.time()"
   ]
  },
  {
   "cell_type": "code",
   "execution_count": null,
   "metadata": {
    "collapsed": true
   },
   "outputs": [],
   "source": [
    "setkey(dt,mmsi,time)"
   ]
  },
  {
   "cell_type": "code",
   "execution_count": null,
   "metadata": {
    "collapsed": false
   },
   "outputs": [],
   "source": [
    "dt0=dt[status==5&sog==0];head(dt0);dim(dt0);setkey(dt0,mmsi,time)"
   ]
  },
  {
   "cell_type": "code",
   "execution_count": null,
   "metadata": {
    "collapsed": false
   },
   "outputs": [],
   "source": [
    "nrow(dt0[,.N,mmsi])\n",
    "nrow(candidates[,.N,mmsi])\n",
    "nrow(selected[,.N,mmsi])"
   ]
  },
  {
   "cell_type": "code",
   "execution_count": null,
   "metadata": {
    "collapsed": false
   },
   "outputs": [],
   "source": [
    "#sample \n",
    "tmp=dt0[,atime:=align.time(as.POSIXct(time,origin='1970-01-01'),60*20)];dim(tmp);head(tmp);nrow(tmp[,.N,list(mmsi,atime)])\n",
    "d5=tmp[,.SD[1],list(mmsi,atime)];dim(d5);head(d5)"
   ]
  },
  {
   "cell_type": "code",
   "execution_count": null,
   "metadata": {
    "collapsed": false
   },
   "outputs": [],
   "source": [
    "#set grids\n",
    "scale=2\n",
    "d5=d5[,glon:=floor(lon*scale)/scale]\n",
    "d5=d5[,glat:=floor(lat*scale)/scale]\n",
    "d6=d5[,.N,list(glon,glat)]\n",
    "setorder(d6,-N)\n",
    "head(d6);nrow(d6)"
   ]
  },
  {
   "cell_type": "code",
   "execution_count": null,
   "metadata": {
    "collapsed": false
   },
   "outputs": [],
   "source": [
    "#combine results of all grids\n",
    "st=Sys.time()\n",
    "eps=0.002\n",
    "minp=10\n",
    "candidates=d5[mmsi<0];\n",
    "candidates=candidates[,c:=0]\n",
    "candidates=candidates[,c1:=0][c<0]\n",
    "for (i in seq(1,nrow(d6))){\n",
    "    print(i)\n",
    "    r=d6[i]    \n",
    "    temp=d5[glon==r$glon&glat==r$glat]\n",
    "    temp2=findCluster(temp,eps,minp)\n",
    "    if(nrow(temp2)>0){\n",
    "        \n",
    "    t0=findTrip(temp2)\n",
    "    candidates=rbind(candidates,t0)\n",
    "        \n",
    "    }\n",
    "    \n",
    "}\n",
    "Sys.time()-st"
   ]
  },
  {
   "cell_type": "code",
   "execution_count": null,
   "metadata": {
    "collapsed": false
   },
   "outputs": [],
   "source": [
    "head(candidates);dim(candidates[,.N,list(glon,glat,c)]);dim(candidates)"
   ]
  },
  {
   "cell_type": "code",
   "execution_count": null,
   "metadata": {
    "collapsed": false
   },
   "outputs": [],
   "source": [
    "nrow(candidates[,.N,list(glon,glat,c)])\n",
    "nrow(candidates2[,.N,list(fcid)])"
   ]
  },
  {
   "cell_type": "code",
   "execution_count": null,
   "metadata": {
    "collapsed": false
   },
   "outputs": [],
   "source": [
    "#add unique cluster cid and combine clusters belong to the same termainal\n",
    "candidates2=getFinalCluster(candidates,0.004,2)#just use the selected replace the tempsample, here is only for test purpose\n",
    "dim(candidates2);head(candidates2)\n",
    "#head(sampled);dim(sampled)"
   ]
  },
  {
   "cell_type": "code",
   "execution_count": null,
   "metadata": {
    "collapsed": false
   },
   "outputs": [],
   "source": [
    "#number of trips with duration 168462\n",
    "t1=candidates2[c>0&c1>0,list(dur=(max(.SD$time)-min(.SD$time))/3600),by=list(glon,glat,c,mmsi,c1,fcid)]\n",
    "head(t1);dim(t1);"
   ]
  },
  {
   "cell_type": "code",
   "execution_count": null,
   "metadata": {
    "collapsed": false
   },
   "outputs": [],
   "source": [
    "hist(t1[fcid==676]$dur,breaks=100)\n",
    "hist(t1[fcid==690]$dur,breaks=100)\n",
    "hist(t1[fcid==2219]$dur,breaks=100)\n",
    "hist(t1[fcid==1]$dur,breaks=100)"
   ]
  },
  {
   "cell_type": "code",
   "execution_count": null,
   "metadata": {
    "collapsed": false
   },
   "outputs": [],
   "source": [
    "#head(t0)\n",
    "t2=t1[c>0&c1>0,list(uniques=length(unique(.SD$mmsi)),mean=mean(dur),median=median(dur),sd=sd(dur),.N),list(fcid)]\n",
    "#t3=t2[,norm:=abs(mean-median)/max(mean,median)]#incorrect\n",
    "max=apply(t2[,list(mean,median)],1,max)\n",
    "t3=cbind(t2,max)\n",
    "t3=t3[,norm:=abs(mean-median)/max]\n",
    "t3=t3[,tripRate:=N/uniques]\n",
    "t4=t3[norm<0.25&uniques>5]\n",
    "\n",
    "dim(t4);t3[fcid%in%c(676,678,679,690,691)]"
   ]
  },
  {
   "cell_type": "code",
   "execution_count": null,
   "metadata": {
    "collapsed": false,
    "scrolled": true
   },
   "outputs": [],
   "source": [
    "sampled=candidates2[c>0&c1>0,sample_n(.SD,5),fcid]\n",
    "head(sampled);dim(sampled)\n",
    "write.csv(sampled,'d:/share/terminals.csv')\n",
    "write.csv(t3,'d:/share/t3.csv')"
   ]
  },
  {
   "cell_type": "code",
   "execution_count": null,
   "metadata": {
    "collapsed": false
   },
   "outputs": [],
   "source": [
    "min(candidates2[c>0&c1>0,.N,fcid]$N)\n",
    "nrow(sampled[,.N,fcid])\n",
    "nrow(candidates2[c>0&c1>0,.N,fcid])"
   ]
  },
  {
   "cell_type": "code",
   "execution_count": null,
   "metadata": {
    "collapsed": false
   },
   "outputs": [],
   "source": [
    "selected=data.table(inner_join(candidates2,t4[,list(fcid)],by='fcid'))\n",
    "dim(selected);head(selected);"
   ]
  },
  {
   "cell_type": "code",
   "execution_count": null,
   "metadata": {
    "collapsed": false
   },
   "outputs": [],
   "source": [
    "zoomSize=7\n",
    "#temp=candidates2[lon>119&lon<124&lat<31.5&lat>29,.SD[1],list(fcid)];nrow(temp)\n",
    "temp=selected[lon>117&lon<124&lat<35&lat>29,.SD[1],list(fcid)];nrow(temp)\n",
    "\n",
    "#temp=selected[,.SD[1],list(fcid)];nrow(temp)\n",
    "centerX=0.5*(max(temp$lon)+min(temp$lon))\n",
    "centerY=0.5*(max(temp$lat)+min(temp$lat))\n",
    "#p<-ggmap(get_map(location=c(centerX,centerY),zoom=zoomSize,source='google',maptype = 'satellite'))\n",
    "p=ggplot()\n",
    "p=p+geom_point(data=temp,aes(x=lon,y=lat,col=as.factor(fcid)),size=2,alpha=0.75)\n",
    "p=p+geom_text(data=temp[,.SD[1],fcid],nudge_x = 0.05,nudge_y = 0.05,aes(x=lon,y=lat,label=fcid),color='black',size=2)\n",
    "p=p+labs(x=\"Longtitude\",y=\"Latitude\")+theme(legend.position='none')\n",
    "#p\n",
    "#hulls=temp[chull(temp[,list(lon,lat)]),]\n",
    "#p=p+geom_point(data = hulls, aes(x = lon, y = lat),size=1,col='yellow') \n",
    "#p=p+geom_polygon(data = hulls, aes(x = lon, y = lat),fill='yellow',alpha = 0.4)\n",
    "p"
   ]
  },
  {
   "cell_type": "code",
   "execution_count": null,
   "metadata": {
    "collapsed": false
   },
   "outputs": [],
   "source": [
    "#draw each cluster\n",
    "tc=selected[,.N,fcid]\n",
    "tc=tc[1:3]\n",
    "for (i in seq(1:nrow(tc))){\n",
    "    #zoomSize=8\n",
    "    r=tc[i]\n",
    "    temp=selected[glon==r$glon&glat==r$glat&c==r$c];nrow(temp)\n",
    "    #centerX=0.5*(max(temp$lon)+min(temp$lon))\n",
    "    #centerY=0.5*(max(temp$lat)+min(temp$lat))\n",
    "    #p<-ggmap(get_map(location=c(centerX,centerY),zoom=zoomSize,source='google',maptype = 'satellite'))\n",
    "    p=ggplot()\n",
    "    p=p+geom_point(data=temp,aes(x=lon,y=lat,col=as.factor(paste(glon,glat,c))),size=2,alpha=0.75)\n",
    "    p=p+geom_text(data=temp[,.SD[1],list(glon,glat,c)],nudge_x = 0.005,nudge_y = 0.005,aes(x=lon,y=lat,label=c),color='black',size=4)\n",
    "    p=p+labs(x=\"Longtitude\",y=\"Latitude\")+theme(legend.position=c(0.9,0.9))\n",
    "    #p\n",
    "    hulls=temp[chull(temp[,list(lon,lat)]),]\n",
    "    p=p+geom_point(data = hulls, aes(x = lon, y = lat),size=1,col='yellow') \n",
    "    p=p+geom_polygon(data = hulls, aes(x = lon, y = lat),fill='yellow',alpha = 0.4)\n",
    "    plot(p) \n",
    "    \n",
    "}"
   ]
  },
  {
   "cell_type": "code",
   "execution_count": null,
   "metadata": {
    "collapsed": false
   },
   "outputs": [],
   "source": [
    "zoomSize=2\n",
    "#temp=selected[lon>117&lon<124&lat<35&lat>29,.SD[1],list(fcid)];nrow(temp)\n",
    "\n",
    "temp=candidates2[,.SD[1],list(fcid)][lon>(-130)&lon<(-120)&lat<50&lat>35];nrow(temp)\n",
    "centerX=0.5*(max(temp$lon)+min(temp$lon))\n",
    "centerY=0.5*(max(temp$lat)+min(temp$lat))\n",
    "#p<-ggmap(get_map(location=c(centerX,centerY),zoom=zoomSize,source='google',maptype = 'satellite'))\n",
    "p=ggplot()\n",
    "p=p+geom_point(data=temp,aes(x=lon,y=lat,col=as.factor(fcid)),size=2,alpha=0.75)\n",
    "p=p+geom_text(data=temp[,.SD[1],fcid],nudge_x = 0.05,nudge_y = 0.05,aes(x=lon,y=lat,label=fcid),color='black',size=2)\n",
    "p=p+labs(x=\"Longtitude\",y=\"Latitude\")+theme(legend.position='none')\n",
    "#p\n",
    "#hulls=temp[chull(temp[,list(lon,lat)]),]\n",
    "#p=p+geom_point(data = hulls, aes(x = lon, y = lat),size=1,col='yellow') \n",
    "#p=p+geom_polygon(data = hulls, aes(x = lon, y = lat),fill='yellow',alpha = 0.4)\n",
    "p"
   ]
  },
  {
   "cell_type": "code",
   "execution_count": null,
   "metadata": {
    "collapsed": false,
    "scrolled": false
   },
   "outputs": [],
   "source": [
    "fcids=candidates2[lon>(-130)&lon<(-120)&lat<50&lat>42.5,.N,fcid]$fcid\n",
    "fcids\n",
    "t3[fcid%in%fcids]"
   ]
  },
  {
   "cell_type": "code",
   "execution_count": null,
   "metadata": {
    "collapsed": false
   },
   "outputs": [],
   "source": [
    "t=selected[c>0&c1>0,list(time=.SD[1]$time,.N),list(mmsi,fcid,cid,c1)];setkey(t,mmsi,time,fcid)"
   ]
  },
  {
   "cell_type": "code",
   "execution_count": null,
   "metadata": {
    "collapsed": false
   },
   "outputs": [],
   "source": [
    "t[mmsi==209006000];dim(t)"
   ]
  },
  {
   "cell_type": "code",
   "execution_count": null,
   "metadata": {
    "collapsed": false
   },
   "outputs": [],
   "source": [
    "aship=dt[mmsi==209006000];setkey(aship,mmsi,time)\n",
    "dim(aship)"
   ]
  },
  {
   "cell_type": "code",
   "execution_count": null,
   "metadata": {
    "collapsed": false
   },
   "outputs": [],
   "source": [
    "plot(aship$lon,aship$lat)\n",
    "plot(aship[sog<25]$sog)"
   ]
  },
  {
   "cell_type": "code",
   "execution_count": null,
   "metadata": {
    "collapsed": true
   },
   "outputs": [],
   "source": [
    "#start with networks\n",
    "#read labelled terminals and world port\n",
    "tm0=fread('D:/share/Git/Rprojects/ShipEmissions/data/terminals_labelled.csv')\n",
    "port0=fread('D:/share/Git/Rprojects/ShipEmissions/data/worldport.csv')"
   ]
  },
  {
   "cell_type": "code",
   "execution_count": null,
   "metadata": {
    "collapsed": false
   },
   "outputs": [],
   "source": [
    "dim(tm0);dim(port0);dim(tm0[label==1&uniques>4&N>19])"
   ]
  },
  {
   "cell_type": "code",
   "execution_count": null,
   "metadata": {
    "collapsed": false
   },
   "outputs": [],
   "source": [
    "#get ships pass the selected terminals\n",
    "#order trips of each ship based on time\n",
    "#find the top1 OD in terms of popularity over the network\n",
    "fcids=unique(tm0[label==1&uniques>4&N>19]$fcid);length(fcids);\n",
    "sdt=candidates2[fcid%in%fcids];dim(sdt);head(sdt);setkey(sdt,mmsi,c,c1,cid,fcid,time)"
   ]
  },
  {
   "cell_type": "code",
   "execution_count": null,
   "metadata": {
    "collapsed": false
   },
   "outputs": [],
   "source": [
    "trips=sdt[c>0&c1>0,.SD[c(1,nrow(.SD))],list(glon,glat,c,mmsi,c1,fcid)];nrow(trips)"
   ]
  },
  {
   "cell_type": "code",
   "execution_count": null,
   "metadata": {
    "collapsed": false
   },
   "outputs": [],
   "source": [
    "trips1=trips[,list(stime=.SD[1]$time,etime=.SD[nrow(.SD)]$time,satime=.SD[1]$atime,eatime=.SD[nrow(.SD)]$atime),list(glon,glat,c,mmsi,c1,fcid)];nrow(trips)"
   ]
  },
  {
   "cell_type": "code",
   "execution_count": null,
   "metadata": {
    "collapsed": false
   },
   "outputs": [],
   "source": [
    "dim(trips1);head(trips1);setkey(trips1,mmsi,stime);trips1=cbind(trips1,tpid=seq(1,nrow(trips1)));head(trips1)"
   ]
  },
  {
   "cell_type": "code",
   "execution_count": null,
   "metadata": {
    "collapsed": false
   },
   "outputs": [],
   "source": [
    "nr=nrow(trips1)\n",
    "ln1=trips1[1:(nr-1),list(mmsi1=mmsi,tpid1=tpid,stime1=stime,etime1=etime,satime1=satime,eatime1=eatime,fcid1=fcid,glon1=glon,glat1=glat)]\n",
    "ln2=trips1[2:nr,list(mmsi2=mmsi,tpid2=tpid,stime2=stime,etime2=etime,satime2=satime,eatime2=eatime,fcid2=fcid,glon2=glon,glat2=glat)]\n",
    "ln=cbind(ln1,ln2);dim(ln);ln=ln[mmsi1==mmsi2];dim(ln);head(ln)\n"
   ]
  },
  {
   "cell_type": "code",
   "execution_count": null,
   "metadata": {
    "collapsed": false
   },
   "outputs": [],
   "source": [
    "#need to look at the average speed and tim\n",
    "od=ln[,.N,list(fcid1,fcid2)];dim(od);setorder(od,-N);head(od[fcid1!=fcid2])"
   ]
  },
  {
   "cell_type": "code",
   "execution_count": null,
   "metadata": {
    "collapsed": true
   },
   "outputs": [],
   "source": [
    "#convert the csv document to esri shp documents\n",
    "#must have a lon and lat column as longitude and latitude\n",
    "#infile=\"D:/Git/data/terminals.csv\"\n",
    "data2shp<-function(MyData,filepath){ \n",
    "    library(rgdal)\n",
    "    library('sp')\n",
    "    coordinates(MyData)<-~lon+lat # whatever the equivalent is in your \n",
    "    writeOGR(MyData, filepath, \"layer name\", driver = \"ESRI Shapefile\")  \n",
    "}\n"
   ]
  },
  {
   "cell_type": "code",
   "execution_count": null,
   "metadata": {
    "collapsed": false
   },
   "outputs": [],
   "source": [
    "\n",
    "infile=\"D:/share/Git/Rprojects/ShipEmissions/data/terminals_labelled.csv\"\n",
    "portfile1=\"D:/share/Git/Rprojects/ShipEmissions/data/worldport.csv\"\n",
    "portfile2=\"D:/share/Git/ports.csv\" #port data from bloomoo\n",
    "outfile=\"D:/share/Git/Rprojects/ShipEmissions/data/terminals.shp\"\n",
    "terminals=fread(infile);terminals=terminals[,V1:=NULL];head(terminals,1);\n",
    "\n",
    "ports1=fread(portfile1)\n",
    "ports2=fread(portfile2,sep='@');head(ports2,1)"
   ]
  },
  {
   "cell_type": "code",
   "execution_count": null,
   "metadata": {
    "collapsed": false
   },
   "outputs": [],
   "source": [
    "data2shp(ports1,\"D:/share/Git/Rprojects/ShipEmissions/data/ports_wpi.shp\")\n",
    "data2shp(ports2,\"D:/share/Git/Rprojects/ShipEmissions/data/ports_blm.shp\")\n",
    "data2shp(terminals,\"D:/share/Git/Rprojects/ShipEmissions/data/terminals.shp\")"
   ]
  },
  {
   "cell_type": "code",
   "execution_count": null,
   "metadata": {
    "collapsed": false
   },
   "outputs": [],
   "source": [
    "#create shp file for selected terminals\n",
    "fcids=sdt[,.N,fcid]$fcid;selected_terminals=sdt[fcid%in%fcids,.SD[median(seq(1,nrow(.SD)))],fcid];\n",
    "nrow(selected_terminals);head(selected_terminals);\n",
    "data2shp(selected_terminals,\"D:/share/Git/Rprojects/ShipEmissions/data/selected_terminals.shp\")"
   ]
  },
  {
   "cell_type": "code",
   "execution_count": null,
   "metadata": {
    "collapsed": false
   },
   "outputs": [],
   "source": [
    "#get trip trajectories between fcid 314 and fcid 140\n",
    "head(ln,1)"
   ]
  },
  {
   "cell_type": "code",
   "execution_count": null,
   "metadata": {
    "collapsed": true
   },
   "outputs": [],
   "source": [
    "aship=dt[mmsi==209006000]"
   ]
  },
  {
   "cell_type": "code",
   "execution_count": null,
   "metadata": {
    "collapsed": false
   },
   "outputs": [],
   "source": [
    "r0=data.table(dt[1],fcid1=0,fcid2=0,tpid=0,dur=0)[mmsi<0];head(r0)\n",
    "n=nrow(ln[fcid1==314&fcid2==140])\n"
   ]
  },
  {
   "cell_type": "code",
   "execution_count": null,
   "metadata": {
    "collapsed": true
   },
   "outputs": [],
   "source": [
    "#dt : the original AIS records\n",
    "#ln:trip lines with start and end terminal\n",
    "#result will not only include the original AIS record columns \n",
    "#but also added start and end terminal, but also duration (s) and tripid(as tpid)\n",
    "gettripdt<-function(dt,ln){\n",
    "    n=nrow(ln)\n",
    "    r0=data.table(dt[1],fcid1=0,fcid2=0,tpid=0,dur=0)[mmsi<0];head(r0)\n",
    "     \n",
    "    for(i in seq(1,n)){\n",
    "        l=ln[i]\n",
    "        print(i)\n",
    "        if(l$etime1<l$stime2){\n",
    "            temp=dt[mmsi==l$mmsi1]\n",
    "            temp=temp[time>=l$etime1]\n",
    "            temp=temp[time<=l$stime2]\n",
    "            temp=temp[,fcid1:=l$fcid1]\n",
    "            temp=temp[,fcid2:=l$fcid2]\n",
    "            temp=temp[,tpid:=l$tpid1]\n",
    "            temp=temp[,dur:=(l$stime2-l$etime1)]\n",
    "            r0=rbind(r0,temp)\n",
    "        }\n",
    "     \n",
    "    }\n",
    "    return(r0)\n",
    "}"
   ]
  },
  {
   "cell_type": "code",
   "execution_count": null,
   "metadata": {
    "collapsed": false
   },
   "outputs": [],
   "source": [
    "templn=ln[fcid1==314&fcid2==140];\n",
    "tripdt=gettripdt(dt,templn);"
   ]
  },
  {
   "cell_type": "code",
   "execution_count": null,
   "metadata": {
    "collapsed": false
   },
   "outputs": [],
   "source": [
    "head(tripdt);dim(tripdt)"
   ]
  },
  {
   "cell_type": "code",
   "execution_count": null,
   "metadata": {
    "collapsed": false
   },
   "outputs": [],
   "source": [
    "temp=ln[fcid1==314&fcid2==140];temp=temp[,dur:=(stime2-etime1)/3600];hist(log2(temp$dur),breaks=40)"
   ]
  },
  {
   "cell_type": "code",
   "execution_count": null,
   "metadata": {
    "collapsed": false
   },
   "outputs": [],
   "source": [
    "getTripLine<-function(tripdt){\n",
    "    r0=data.table(mmsi=0,tpid=0,fcid1=0,fcid2=0,status1=0,time1=0,sog1=0,lon1=0,lat1=0,time2=0,status2=0,sog2=0,lon2=0,lat2=0,dist=0,dur=0)[mmsi<0]\n",
    "    setkey(tripdt,mmsi,tpid,time)\n",
    "    tps=tripdt[,.N,tpid]\n",
    "    n=nrow(tps)\n",
    "   \n",
    "    for(i in seq(1,n)){\n",
    "        id=tps[i]$tpid\n",
    "        atrip=tripdt[tpid==id]\n",
    "        m=nrow(atrip)\n",
    "        if(m>1){\n",
    "            atrip1=atrip[1:(m-1),list(mmsi,tpid,fcid1,fcid2,status1=status,time1=time,sog1=sog,lon1=lon,lat1=lat)]\n",
    "            atrip2=atrip[2:m,list(time2=time,status2=status,sog2=sog,lon2=lon,lat2=lat)]\n",
    "            tripln=cbind(atrip1,atrip2)\n",
    "            temp=tripln[,dist:=distance(lon1,lat1,lon2,lat2)]\n",
    "            temp=temp[,dur:=abs(time2-time1)]\n",
    "            r0=rbind(r0,temp)\n",
    "        }\n",
    "        \n",
    "    }\n",
    "\n",
    "    return(r0)\n",
    "    \n",
    "}"
   ]
  },
  {
   "cell_type": "code",
   "execution_count": null,
   "metadata": {
    "collapsed": true
   },
   "outputs": [],
   "source": [
    "tripln=getTripLine(tripdt)"
   ]
  },
  {
   "cell_type": "code",
   "execution_count": null,
   "metadata": {
    "collapsed": false
   },
   "outputs": [],
   "source": [
    "dim(tripln);head(tripln);sum(tripln$dist);sum(tripln$dur)"
   ]
  },
  {
   "cell_type": "code",
   "execution_count": null,
   "metadata": {
    "collapsed": false
   },
   "outputs": [],
   "source": [
    "temp=tripln[,list(.N,sum(dist),sum(dur)),tpid];head(temp);hist(log(temp$V2/1000),breaks=100);plot(temp$V3/3600,temp$V2/1852)"
   ]
  },
  {
   "cell_type": "code",
   "execution_count": null,
   "metadata": {
    "collapsed": false
   },
   "outputs": [],
   "source": [
    "hist(temp[V2<3600*24*7]$V2/1852,breaks=30)"
   ]
  },
  {
   "cell_type": "code",
   "execution_count": null,
   "metadata": {
    "collapsed": false
   },
   "outputs": [],
   "source": [
    "temp2=candidates2[c>0&c1>0,.SD[1],fcid];head(temp2);dim(temp2)"
   ]
  },
  {
   "cell_type": "code",
   "execution_count": null,
   "metadata": {
    "collapsed": false
   },
   "outputs": [],
   "source": [
    "terminals1=data.table(left_join(temp2,terminals,'fcid'));head(temp3);dim(temp3)"
   ]
  },
  {
   "cell_type": "code",
   "execution_count": null,
   "metadata": {
    "collapsed": false
   },
   "outputs": [],
   "source": [
    "dim(tripln)"
   ]
  },
  {
   "cell_type": "code",
   "execution_count": null,
   "metadata": {
    "collapsed": false
   },
   "outputs": [],
   "source": [
    "write.csv(tripln,\"D:/share/Git/Rprojects/ShipEmissions/data/tripln314_140.csv\")"
   ]
  },
  {
   "cell_type": "code",
   "execution_count": null,
   "metadata": {
    "collapsed": true
   },
   "outputs": [],
   "source": []
  }
 ],
 "metadata": {
  "anaconda-cloud": {},
  "kernelspec": {
   "display_name": "R",
   "language": "R",
   "name": "ir"
  },
  "language_info": {
   "codemirror_mode": "r",
   "file_extension": ".r",
   "mimetype": "text/x-r-source",
   "name": "R",
   "pygments_lexer": "r",
   "version": "3.3.2"
  }
 },
 "nbformat": 4,
 "nbformat_minor": 1
}
